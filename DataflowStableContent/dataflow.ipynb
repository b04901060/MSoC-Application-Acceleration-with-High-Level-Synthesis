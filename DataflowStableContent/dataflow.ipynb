{
 "metadata": {
  "language_info": {
   "codemirror_mode": {
    "name": "ipython",
    "version": 3
   },
   "file_extension": ".py",
   "mimetype": "text/x-python",
   "name": "python",
   "nbconvert_exporter": "python",
   "pygments_lexer": "ipython3",
   "version": 3
  },
  "orig_nbformat": 2
 },
 "nbformat": 4,
 "nbformat_minor": 2,
 "cells": [
  {
   "cell_type": "code",
   "execution_count": null,
   "metadata": {},
   "outputs": [],
   "source": [
    "import sys\n",
    "import numpy as np\n",
    "\n",
    "sys.path.append('/home/xilinx')\n",
    "from pynq import Overlay\n",
    "from pynq import allocate\n",
    "\n",
    "if __name__ == \"__main__\":\n",
    "    ol = Overlay(\"./dataflow.bit\")\n",
    "    ipDesign = ol.example_0\n",
    "    ipDMAIn0 = ol.axi_dma_0\n",
    "    ipDMAIn1 = ol.axi_dma_1\n",
    "    ipDMAOut0 = ol.axi_dma_2\n",
    "\n",
    "    inBuffer0 = allocate(shape=(10,), dtype=np.int32)\n",
    "    inBuffer1 = allocate(shape=(10,), dtype=np.int32)\n",
    "    outBuffer0 = allocate(shape=(1,), dtype=np.int32)\n",
    "    \n",
    "    a = [0, 1, 2, 3, 4, 5, 6, 7, 8, 9]\n",
    "    b = [9, 8, 7, 6, 5, 4, 3, 2, 1, 0]\n",
    "\n",
    "    for i in range(10):\n",
    "        inBuffer0[i] = a[i]\n",
    "        inBuffer1[i] = b[i]\n",
    "\n",
    "    ipDesign.write(0x00, 0x01)\n",
    "    ipDMAIn0.sendchannel.transfer(inBuffer0)\n",
    "    ipDMAIn1.sendchannel.transfer(inBuffer1)\n",
    "    ipDMAOut0.recvchannel.transfer(outBuffer0)\n",
    "    ipDMAIn0.sendchannel.wait()\n",
    "    ipDMAIn1.sendchannel.wait()\n",
    "    ipDMAOut0.recvchannel.wait()\n",
    "\n",
    "    print('output = {}'.format(outBuffer0[0]))\n",
    "    print(\"exit\")"
   ]
  }
 ]
}